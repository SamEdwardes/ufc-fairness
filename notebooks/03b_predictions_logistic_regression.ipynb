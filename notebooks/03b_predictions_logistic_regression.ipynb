{
 "cells": [
  {
   "cell_type": "code",
   "execution_count": 1,
   "metadata": {},
   "outputs": [],
   "source": [
    "import pandas as pd\n",
    "import numpy as np\n",
    "\n",
    "from collections import defaultdict\n",
    "from sklearn.preprocessing import StandardScaler\n",
    "from sklearn.linear_model import LogisticRegression\n",
    "from sklearn.model_selection import train_test_split\n",
    "\n",
    "pd.set_option('display.max_columns', None)"
   ]
  },
  {
   "cell_type": "code",
   "execution_count": null,
   "metadata": {},
   "outputs": [],
   "source": [
    "raw = pd.read_csv(\"../data/fight_results.csv\")\n",
    "raw['date'] = pd.to_datetime(raw['date'])"
   ]
  },
  {
   "cell_type": "code",
   "execution_count": null,
   "metadata": {},
   "outputs": [],
   "source": [
    "# shuffle the order of fighers. UFC always has the winning figher as fighter 1\n",
    "df = raw.copy()\n",
    "df['fight_id'] = df.index\n",
    "df['blue'] = np.random.choice(a=[1, 2], p=[0.5, 0.5], size=df.shape[0])\n",
    "df['red'] = df['blue'].apply(lambda x: 1 if x == 2 else 2)\n",
    "df['winner_colour'] = df['blue'].apply(lambda x: \"blue\" if x == 1 else \"red\")\n",
    "df['blue'] = df.apply(lambda x: x['fighter_1_name'] if x['blue'] == 1 else x['fighter_2_name'], axis=1)\n",
    "df['red'] = df.apply(lambda x: x['fighter_1_name'] if x['red'] == 1 else x['fighter_2_name'], axis=1)\n",
    "\n",
    "\n",
    "# pivot longer\n",
    "cols_to_pivot = ['fighter_1_name', 'fighter_2_name']\n",
    "\n",
    "df_long = df.melt(\n",
    "    value_vars=cols_to_pivot,\n",
    "    id_vars=[i for i in df.columns if i not in cols_to_pivot],\n",
    "    value_name=\"fighter_name\", var_name=\"fighter_number\"\n",
    ")\n",
    "\n",
    "df_long['fighter_number'] = df_long['fighter_number'].str.replace(\"_name\", \"\")\n",
    "df_long['colour'] = df_long.apply(lambda x: 'blue' if x['blue'] == x['fighter_name'] else 'red', axis=1)\n",
    "df_long['opponent_name'] = df_long.apply(lambda x: x['blue'] if x['red'] == x['fighter_name'] else x['red'], axis=1)\n",
    "df_long['str'] = df_long.apply(lambda x: x['fighter_1_str'] if x['fighter_number'] == 'fighter_1' else  x['fighter_2_str'], axis=1)\n",
    "df_long['td'] = df_long.apply(lambda x: x['fighter_1_td'] if x['fighter_number'] == 'fighter_1' else  x['fighter_2_td'], axis=1)\n",
    "df_long['sub'] = df_long.apply(lambda x: x['fighter_1_sub'] if x['fighter_number'] == 'fighter_1' else  x['fighter_2_sub'], axis=1)\n",
    "df_long['pass'] = df_long.apply(lambda x: x['fighter_1_pass'] if x['fighter_number'] == 'fighter_1' else  x['fighter_2_pass'], axis=1)\n",
    "\n",
    "df_long['winner'] = df_long.apply(lambda x: 1 if x['winner_colour'] == x['colour'] else 0, axis=1)\n",
    "df_long['loser'] = df_long.apply(lambda x: 1 if x['winner_colour'] != x['colour'] else 0, axis=1)\n",
    "df_long['blue_win'] = df_long['winner_colour'].apply(lambda x: 1 if x == 'blue' else 0)\n",
    "\n",
    "df_long = df_long[['event_name', 'date', 'weight_class', 'win_method', 'win_round', 'win_time',\n",
    "                   'fight_id', 'fighter_name', 'fighter_number', 'colour', 'str', 'td', 'sub', 'pass', \n",
    "                   'winner', 'loser', 'blue_win']]\n",
    "\n",
    "df_long"
   ]
  },
  {
   "cell_type": "code",
   "execution_count": null,
   "metadata": {},
   "outputs": [],
   "source": [
    "def win_method_binner(x):\n",
    "    \"\"\"Categorize win methods into bins.\"\"\"\n",
    "    if \"DEC\" in x:\n",
    "        return \"DEC\"\n",
    "    elif \"TKO\" in x:\n",
    "        return \"TKO\"\n",
    "    elif \"SUB\" in x:\n",
    "        return \"SUB\"\n",
    "    elif \"Overturned\" in x:\n",
    "        return \"Overturned\"\n",
    "    else:\n",
    "        return x"
   ]
  },
  {
   "cell_type": "code",
   "execution_count": null,
   "metadata": {},
   "outputs": [],
   "source": [
    "# calculate running total stats for the fighers.\n",
    "# Ideas for features:\n",
    "# wins, loss, TKO, TKO received, days since last fight, height, weight, wing_span, win streak, loss streak, last fight time\n",
    "df_long = df_long.sort_values(by=['fighter_name', 'date'])\n",
    "df_long = df_long.reset_index(drop=True)\n",
    "df_long['win_method_bin'] = df_long['win_method'].apply(win_method_binner)\n",
    "df_long['num_fights'] = df_long.groupby('fighter_name')['event_name'].cumcount() + 1\n",
    "df_long['wins'] = df_long.groupby('fighter_name')['winner'].cumsum()\n",
    "df_long['losses'] = df_long.groupby('fighter_name')['loser'].cumsum()\n",
    "df_long['days_since_last_fight'] = df_long.groupby('fighter_name')['date'].diff().dt.days.fillna(0)\n",
    "df_long['tko_recieved'] = df_long.apply(lambda x: 1 if x['winner'] == 0 and x['win_method_bin'] == \"TKO\" else 0, axis=1)\n",
    "df_long['total_tko_recieved'] = df_long.groupby('fighter_name')['tko_recieved'].cumsum()\n",
    "df_long['fight_time'] = df_long.apply(lambda x: (x['win_round'] - 1) * 5 + float(x['win_time'][-2])/60 + float(x['win_time'][0]), axis=1)\n",
    "df_long['total_octagon_time'] = df_long.groupby('fighter_name')['fight_time'].cumsum()\n",
    "df_long['last_fight_time'] = df_long.groupby('fighter_name')['fight_time'].shift(periods=1).fillna(0)\n",
    "df_long['last_fight_tko_received'] = df_long.groupby('fighter_name')['tko_recieved'].shift(periods=1).fillna(0).astype(int)\n",
    "df_long['last_fight_win'] = df_long.groupby('fighter_name')['winner'].shift(periods=1).fillna(0).astype(int)\n",
    "df_long['last_fight_loss'] = df_long.groupby('fighter_name')['loser'].shift(periods=1).fillna(0).astype(int)\n",
    "# df_long['win_streak'] = np.NaN\n",
    "# df_long['loss_streak'] = np.NaN\n",
    "\n",
    "\n",
    "df_long.query(\"fighter_name == 'Conor McGregor'\")"
   ]
  },
  {
   "cell_type": "code",
   "execution_count": null,
   "metadata": {},
   "outputs": [],
   "source": [
    "X_ = df_long.pivot_table(index=['fight_id', 'colour']).unstack()\n",
    "X_ = X_[['wins', 'losses', 'total_octagon_time', 'total_tko_recieved', 'days_since_last_fight', \n",
    "         'last_fight_tko_received', 'last_fight_win', 'last_fight_loss', 'last_fight_time', 'blue_win']]\n",
    "X_.columns = ['_'.join(col).strip() for col in X_.columns.values]\n",
    "X_['blue_win'] =X_['blue_win_blue']\n",
    "X_ = X_.drop(columns=['blue_win_blue', 'blue_win_red'])\n",
    "X_ = X_.reset_index()\n",
    "X_"
   ]
  },
  {
   "cell_type": "code",
   "execution_count": null,
   "metadata": {},
   "outputs": [],
   "source": [
    "# double check everything matches\n",
    "df_long.query(\"fight_id == 0 or fight_id == 99\").sort_values(by='fight_id')"
   ]
  },
  {
   "cell_type": "code",
   "execution_count": null,
   "metadata": {},
   "outputs": [],
   "source": [
    "X_.query(\"fight_id == 0 or fight_id == 99\")"
   ]
  },
  {
   "cell_type": "code",
   "execution_count": null,
   "metadata": {},
   "outputs": [],
   "source": [
    "X = X_.drop(columns='blue_win')\n",
    "y = X_['blue_win'].ravel()\n",
    "\n",
    "X_train, X_test, y_train, y_test = train_test_split(X, y, test_size=0.2, random_state=1993)\n",
    "train_fight_id = X_train['fight_id'].ravel()\n",
    "test_fight_id = X_test['fight_id'].ravel()\n",
    "X_train = X_train.drop(columns=['fight_id'])\n",
    "X_test = X_test.drop(columns=['fight_id'])\n",
    "\n",
    "cols_to_standard_scale_regex = \"total_octagon_time|last_fight_time|wins|losses|days_since_last_fight|total_tko_recieved\"\n",
    "cols_to_standard_scale = X_train.filter(regex=cols_to_standard_scale_regex).columns\n",
    "\n",
    "scaler = StandardScaler()\n",
    "X_train[cols_to_standard_scale] = scaler.fit_transform(X_train[cols_to_standard_scale])\n",
    "X_test[cols_to_standard_scale] = scaler.transform(X_test[cols_to_standard_scale])\n",
    "\n",
    "X_train"
   ]
  },
  {
   "cell_type": "code",
   "execution_count": null,
   "metadata": {},
   "outputs": [],
   "source": [
    "models = defaultdict(list)\n",
    "\n",
    "def update_models(model_tracker, model, X_train, y_train, X_test, y_test, name, description):\n",
    "    model_tracker['name'].append(name)\n",
    "    model_tracker['description'].append(description)\n",
    "    model_tracker['train_accuracy'].append(model.score(X_train, y_train))\n",
    "    model_tracker['test_accuracy'].append(model.score(X_test, y_test))\n",
    "    model_tracker['coef'].append(model.coef_.round(2)[0])\n",
    "    model_tracker['model'].append(model)\n",
    "    return model_tracker"
   ]
  },
  {
   "cell_type": "code",
   "execution_count": null,
   "metadata": {},
   "outputs": [],
   "source": [
    "lr1 = LogisticRegression().fit(X_train, y_train)\n",
    "models = update_models(models, lr1, X_train, y_train, X_test, y_test, \n",
    "                       \"lr (all)\", \"lr with all 4 fight stats\")\n",
    "print(pd.DataFrame(data=lr1.coef_, columns=X_train.columns).T)\n",
    "pd.DataFrame(models)"
   ]
  },
  {
   "cell_type": "code",
   "execution_count": null,
   "metadata": {},
   "outputs": [],
   "source": [
    "X_train"
   ]
  },
  {
   "cell_type": "markdown",
   "metadata": {},
   "source": [
    "## Deep dive into results"
   ]
  },
  {
   "cell_type": "code",
   "execution_count": null,
   "metadata": {},
   "outputs": [],
   "source": [
    "X_train.columns"
   ]
  },
  {
   "cell_type": "code",
   "execution_count": null,
   "metadata": {},
   "outputs": [],
   "source": [
    "lr1.predict(X_train)"
   ]
  },
  {
   "cell_type": "code",
   "execution_count": null,
   "metadata": {},
   "outputs": [],
   "source": [
    "X_"
   ]
  },
  {
   "cell_type": "code",
   "execution_count": null,
   "metadata": {},
   "outputs": [],
   "source": [
    "results_train = pd.DataFrame(data=X_train.copy(), columns=X_train.columns)\n",
    "results_train['fight_id'] = train_fight_id\n",
    "results_train['blue_win'] = y_train\n",
    "results_train['prediction'] = lr1.predict(X_train)\n",
    "results_train['prediction_prob_win'] = lr1.predict_proba(X_train)[:,1]\n",
    "results_train['split'] = 'train'\n",
    "\n",
    "results_test = pd.DataFrame(data=X_test.copy(), columns=X_test.columns)\n",
    "results_test['fight_id'] = test_fight_id\n",
    "results_test['blue_win'] = y_test\n",
    "results_test['prediction'] = lr1.predict(X_test)\n",
    "results_test['prediction_prob_win'] = lr1.predict_proba(X_test)[:,1]\n",
    "results_test['split'] = 'test'\n",
    "\n",
    "results = pd.concat([results_train, results_test])\n",
    "results['correct'] = results.apply(lambda x: 1 if x['blue_win'] == x['prediction'] else 0, axis=1)\n",
    "\n",
    "\n",
    "df_final = pd.merge(df, \n",
    "                   results[['fight_id', 'prediction', 'prediction_prob_win', 'correct', 'split']], \n",
    "                   how='left', left_on='fight_id', right_on='fight_id')\n",
    "\n",
    "df_final['predicted_winner'] = df_final.apply(lambda x: x['blue'] if x['prediction'] == 1 else x['red'] , axis=1)\n",
    "\n",
    "df_final = pd.merge(df_final,\n",
    "                    X_,\n",
    "                    how='left', left_on='fight_id', right_on='fight_id')\n",
    "\n",
    "df_final = df_final[['event_name', 'date', 'fighter_1_name', 'fighter_2_name',\n",
    "                     'win_method', 'winner',\n",
    "                     'wins_blue', 'wins_red', 'losses_blue', 'losses_red',\n",
    "                     'total_octagon_time_blue', 'total_octagon_time_red',\n",
    "                     'total_tko_recieved_blue', 'total_tko_recieved_red',\n",
    "                     'days_since_last_fight_blue', 'days_since_last_fight_red',\n",
    "                     'last_fight_tko_received_blue', 'last_fight_tko_received_red',\n",
    "                     'last_fight_win_blue', 'last_fight_win_red', 'last_fight_loss_blue',\n",
    "                     'last_fight_loss_red', 'last_fight_time_blue', 'last_fight_time_red',\n",
    "                     'fight_id', 'blue', 'red', 'winner_colour', 'prediction',\n",
    "                     'prediction_prob_win', 'correct', 'split', 'predicted_winner']]\n",
    "\n",
    "df_final"
   ]
  },
  {
   "cell_type": "code",
   "execution_count": null,
   "metadata": {},
   "outputs": [],
   "source": [
    "(df_final\n",
    " .query('correct == 0')\n",
    " .melt(id_vars='split', value_vars='prediction_prob_win')\n",
    " .drop(columns='variable')\n",
    " .pivot(columns='split')\n",
    " .plot.kde()\n",
    ");"
   ]
  },
  {
   "cell_type": "code",
   "execution_count": null,
   "metadata": {},
   "outputs": [],
   "source": [
    "(df_final\n",
    " .query('correct == 1')\n",
    " .melt(id_vars='split', value_vars='prediction_prob_win')\n",
    " .drop(columns='variable')\n",
    " .pivot(columns='split')\n",
    " .plot.kde()\n",
    ");"
   ]
  },
  {
   "cell_type": "code",
   "execution_count": null,
   "metadata": {},
   "outputs": [],
   "source": [
    "(df_final\n",
    " .query('correct == 0 and prediction_prob_win > 0.9')\n",
    " .sort_values(by='prediction_prob_win', ascending=False)\n",
    " .head()\n",
    ")"
   ]
  },
  {
   "cell_type": "markdown",
   "metadata": {},
   "source": [
    "It looks like for a lot of the cases, it was due to a knockout which makes sense. How accurate is the model for decisions?"
   ]
  },
  {
   "cell_type": "code",
   "execution_count": null,
   "metadata": {},
   "outputs": [],
   "source": [
    "n_dec = df_final['win_method'].str.contains(\"DEC\").sum()\n",
    "print(n_dec)\n",
    "df_final[df_final['win_method'].str.contains(\"DEC\")]['correct'].sum()/n_dec"
   ]
  },
  {
   "cell_type": "markdown",
   "metadata": {},
   "source": [
    "Surprisingly, the model does not do better on decisions."
   ]
  },
  {
   "cell_type": "code",
   "execution_count": null,
   "metadata": {},
   "outputs": [],
   "source": [
    "n_tko = df_final['win_method'].str.contains(\"TKO\").sum()\n",
    "print(n_tko)\n",
    "df_final[df_final['win_method'].str.contains(\"TKO\")]['correct'].sum()/n_tko"
   ]
  },
  {
   "cell_type": "code",
   "execution_count": null,
   "metadata": {},
   "outputs": [],
   "source": [
    "n_sub = df_final['win_method'].str.contains(\"SUB\").sum()\n",
    "print(n_sub)\n",
    "df_final[df_final['win_method'].str.contains(\"SUB\")]['correct'].sum()/n_sub"
   ]
  },
  {
   "cell_type": "markdown",
   "metadata": {},
   "source": [
    "## How would the model perform if it was trained after each event?"
   ]
  },
  {
   "cell_type": "code",
   "execution_count": null,
   "metadata": {},
   "outputs": [],
   "source": [
    "event_names = df_long.sort_values(by='date')['event_name'].unique()\n",
    "event_to_id_mapper = pd.DataFrame(data={'event_name': event_names, 'event_id': np.arange(1, len(event_names) + 1)})\n",
    "event_to_id_mapper.index = event_to_id_mapper['event_id'].values\n",
    "event_to_id_mapper"
   ]
  },
  {
   "cell_type": "code",
   "execution_count": null,
   "metadata": {},
   "outputs": [],
   "source": [
    "X_.sort_values(by='fight_id')"
   ]
  },
  {
   "cell_type": "code",
   "execution_count": null,
   "metadata": {},
   "outputs": [],
   "source": [
    "print(df_long.shape)\n",
    "df_long = df_long.merge(event_to_id_mapper, on=\"event_name\", how='left')\n",
    "print(df_long.shape)\n",
    "print(df.shape)\n",
    "df = df.merge(event_to_id_mapper, on=\"event_name\", how='left')\n",
    "print(df.shape)\n",
    "print(X_.shape)\n",
    "X_ = pd.merge(X_.copy(), \n",
    "              df_long[['fight_id', 'event_id']], \n",
    "              left_on=\"fight_id\", right_on='fight_id', how='left')\n",
    "# X_ = X_.merge(df_long[['fight_id', 'event_id']], on=\"fight_id\", how='left')\n",
    "print(X_.shape)"
   ]
  },
  {
   "cell_type": "code",
   "execution_count": null,
   "metadata": {},
   "outputs": [],
   "source": [
    "X_.sort_values(by='fight_id')"
   ]
  },
  {
   "cell_type": "code",
   "execution_count": null,
   "metadata": {},
   "outputs": [],
   "source": [
    "%time\n",
    "results = defaultdict(list)\n",
    "train_events = []\n",
    "# for i in np.arange(1, max(event_to_id_mapper['event_id'])):\n",
    "for i in np.arange(1, 5):\n",
    "    train_events.append(i)\n",
    "    test_event = i + 1\n",
    "    \n",
    "    # preprocess data\n",
    "    X = X_.copy()\n",
    "    # filter out first time fighters\n",
    "#     X = X.query('wins_blue + losses_red > 0 and wins_red + losses_red > 0')\n",
    "    #\n",
    "    y = X['blue_win'].ravel()\n",
    "    X_train = X.query('event_id in @train_events').drop(columns=['blue_win', 'event_id', 'fight_id'])\n",
    "    X_test =  X.query('event_id == @test_event').drop(columns=['blue_win', 'event_id'])\n",
    "    test_fight_id = X_test['fight_id']\n",
    "    X_test = X_test.drop(columns='fight_id')\n",
    "    y_train = X.query('event_id in @train_events')['blue_win'].ravel()\n",
    "    y_test = X.query('event_id == @test_event')['blue_win'].ravel()\n",
    "    cols_to_standard_scale_regex = \"total_octagon_time|last_fight_time|wins|losses|days_since_last_fight|total_tko_recieved\"\n",
    "    cols_to_standard_scale = X_train.filter(regex=cols_to_standard_scale_regex).columns\n",
    "    scaler = StandardScaler()\n",
    "    X_train[cols_to_standard_scale] = scaler.fit_transform(X_train[cols_to_standard_scale])\n",
    "    X_test[cols_to_standard_scale] = scaler.transform(X_test[cols_to_standard_scale])\n",
    "    \n",
    "\n",
    "    # model\n",
    "    lr = LogisticRegression().fit(X_train, y_train)\n",
    "    \n",
    "    # results\n",
    "    results['num_train_events'].append(i)\n",
    "    results['num_train_fights'].append(X_train.shape[0])\n",
    "    results['num_test_fights'].append(X_test.shape[0])\n",
    "    results['train_accuracy'].append(lr.score(X_train, y_train))\n",
    "    results['test_accuracy'].append(lr.score(X_test, y_test))\n",
    "    results['coef'].append(lr.coef_.round(2)[0])\n",
    "    \n",
    "    # save the detailed results\n",
    "    results_test = pd.DataFrame(data=X_test.copy(), columns=X_test.columns)\n",
    "    results_test['fight_id'] = test_fight_id\n",
    "    results_test['blue_win'] = y_test\n",
    "    results_test['prediction'] = lr1.predict(X_test)\n",
    "    results_test['prediction_prob_win'] = lr1.predict_proba(X_test)[:,1]\n",
    "    results_test['split'] = 'test'\n",
    "    results_test['correct'] = results_test.apply(lambda x: 1 if x['blue_win'] == x['prediction'] else 0, axis=1)\n",
    "    df_final = pd.merge(df.query('event_id == @test_event'), \n",
    "                       results_test[['fight_id', 'prediction', 'prediction_prob_win', 'correct', 'split']], \n",
    "                       how='left', left_on='fight_id', right_on='fight_id')\n",
    "    df_final['predicted_winner'] = df_final.apply(lambda x: x['blue'] if x['prediction'] == 1 else x['red'] , axis=1)\n",
    "    df_final = pd.merge(df_final,\n",
    "                        X_,\n",
    "                        how='left', left_on='fight_id', right_on='fight_id')\n",
    "    df_final = df_final[['event_name', 'date', 'fighter_1_name', 'fighter_2_name',\n",
    "                         'win_method', 'winner',\n",
    "                         'wins_blue', 'wins_red', 'losses_blue', 'losses_red',\n",
    "                         'total_octagon_time_blue', 'total_octagon_time_red',\n",
    "                         'total_tko_recieved_blue', 'total_tko_recieved_red',\n",
    "                         'days_since_last_fight_blue', 'days_since_last_fight_red',\n",
    "                         'last_fight_tko_received_blue', 'last_fight_tko_received_red',\n",
    "                         'last_fight_win_blue', 'last_fight_win_red', 'last_fight_loss_blue',\n",
    "                         'last_fight_loss_red', 'last_fight_time_blue', 'last_fight_time_red',\n",
    "                         'fight_id', 'blue', 'red', 'winner_colour', 'prediction',\n",
    "                         'prediction_prob_win', 'correct', 'split', 'predicted_winner']]\n",
    "\n",
    "    results['details'].append(df_final)\n"
   ]
  },
  {
   "cell_type": "code",
   "execution_count": null,
   "metadata": {},
   "outputs": [],
   "source": [
    "results_df = pd.DataFrame(results)\n",
    "results_df['test_accuracy_running_mean'] = results_df['test_accuracy'].cumsum() / results_df['num_train_events']\n",
    "results_df['test_accuracy_rolling'] = results_df[['test_accuracy']].rolling(10).mean()\n",
    "results_df"
   ]
  },
  {
   "cell_type": "code",
   "execution_count": null,
   "metadata": {},
   "outputs": [],
   "source": [
    "results_df[['train_accuracy', \n",
    "#             'test_accuracy',\n",
    "            'test_accuracy_running_mean', \n",
    "            'test_accuracy_rolling']].plot.line();"
   ]
  },
  {
   "cell_type": "code",
   "execution_count": null,
   "metadata": {},
   "outputs": [],
   "source": [
    "print(\"Mean:\", results_df.test_accuracy.mean().round(2), \"\\n\")\n",
    "print(\"Quantiles:\", results_df.test_accuracy.quantile([0.25, 0.5, 0.75, 0.99]), sep=\"\\n\")"
   ]
  },
  {
   "cell_type": "code",
   "execution_count": null,
   "metadata": {},
   "outputs": [],
   "source": [
    "results_df['details'][1]"
   ]
  },
  {
   "cell_type": "code",
   "execution_count": null,
   "metadata": {},
   "outputs": [],
   "source": []
  },
  {
   "cell_type": "code",
   "execution_count": null,
   "metadata": {},
   "outputs": [],
   "source": []
  },
  {
   "cell_type": "code",
   "execution_count": null,
   "metadata": {},
   "outputs": [],
   "source": []
  },
  {
   "cell_type": "code",
   "execution_count": null,
   "metadata": {},
   "outputs": [],
   "source": []
  }
 ],
 "metadata": {
  "kernelspec": {
   "display_name": "Python 3",
   "language": "python",
   "name": "python3"
  },
  "language_info": {
   "codemirror_mode": {
    "name": "ipython",
    "version": 3
   },
   "file_extension": ".py",
   "mimetype": "text/x-python",
   "name": "python",
   "nbconvert_exporter": "python",
   "pygments_lexer": "ipython3",
   "version": "3.7.7"
  }
 },
 "nbformat": 4,
 "nbformat_minor": 4
}
